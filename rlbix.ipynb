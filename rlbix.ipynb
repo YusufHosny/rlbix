{
 "cells": [
  {
   "cell_type": "code",
   "execution_count": 1,
   "metadata": {},
   "outputs": [],
   "source": [
    "import torch\n",
    "from torch import nn\n",
    "import torch.optim as optim\n",
    "import torch.nn.functional as F"
   ]
  },
  {
   "cell_type": "code",
   "execution_count": 2,
   "metadata": {},
   "outputs": [],
   "source": [
    "import matplotlib\n",
    "import matplotlib.pyplot as plt\n",
    "%matplotlib inline"
   ]
  },
  {
   "cell_type": "code",
   "execution_count": 3,
   "metadata": {},
   "outputs": [],
   "source": [
    "from itertools import count\n",
    "from IPython.display import display, clear_output"
   ]
  },
  {
   "cell_type": "code",
   "execution_count": 4,
   "metadata": {},
   "outputs": [],
   "source": [
    "import random\n",
    "import math"
   ]
  },
  {
   "cell_type": "code",
   "execution_count": 5,
   "metadata": {},
   "outputs": [],
   "source": [
    "from environment.cube import Cube\n",
    "from training.replaymem import ReplayMemory, Transition\n",
    "from training.model import DQN"
   ]
  },
  {
   "cell_type": "code",
   "execution_count": 6,
   "metadata": {},
   "outputs": [
    {
     "name": "stdout",
     "output_type": "stream",
     "text": [
      "Using cuda device\n"
     ]
    }
   ],
   "source": [
    "device = (\n",
    "    \"cuda\"\n",
    "    if torch.cuda.is_available()\n",
    "    else \"mps\"\n",
    "    if torch.backends.mps.is_available()\n",
    "    else \"cpu\"\n",
    ")\n",
    "print(f\"Using {device} device\")"
   ]
  },
  {
   "cell_type": "code",
   "execution_count": 7,
   "metadata": {},
   "outputs": [
    {
     "data": {
      "text/plain": [
       "(12, 27)"
      ]
     },
     "execution_count": 7,
     "metadata": {},
     "output_type": "execute_result"
    }
   ],
   "source": [
    "# BATCH_SIZE: number of transitions sampled from the replay buffer in each training step\n",
    "# GAMMA: discount factor\n",
    "# EPS_START: starting value of epsilon\n",
    "# EPS_END: final value of epsilon\n",
    "# EPS_DECAY: controls the rate of exponential decay of epsilon, higher means a slower decay\n",
    "# TAU: update rate of the target network (in the discrete lpf equation)\n",
    "# LR: learning rate of the Adam optimizer\n",
    "# MAX_DURATION: maximum step count of an episode before its truncated\n",
    "\n",
    "BATCH_SIZE = 16\n",
    "GAMMA = 0.9\n",
    "EPS_START = 0.15\n",
    "EPS_END = 0.05\n",
    "EPS_DECAY = 15_000\n",
    "TAU = 0.005\n",
    "LR = 1e-4\n",
    "MAX_DURATION = 9\n",
    "\n",
    "# Get number of actions from cube (all possible rotations)\n",
    "cube = Cube()\n",
    "solved_state = cube.get_state()\n",
    "n_actions = len(cube.moves)\n",
    "# Get the number of state observations\n",
    "n_observations = cube.state.size\n",
    "\n",
    "n_actions, n_observations"
   ]
  },
  {
   "cell_type": "code",
   "execution_count": 8,
   "metadata": {},
   "outputs": [],
   "source": [
    "# create target and policy networks\n",
    "# target network is just policy network with a discrete low pass filter\n",
    "# its used for stability\n",
    "policy_net = DQN(n_observations, n_actions).to(device)\n",
    "target_net = DQN(n_observations, n_actions).to(device)\n",
    "target_net.load_state_dict(policy_net.state_dict())\n",
    "\n",
    "# initialize adam optimizer and replay memory\n",
    "optimizer = optim.AdamW(policy_net.parameters(), lr=LR, amsgrad=True)\n",
    "memory = ReplayMemory(128)"
   ]
  },
  {
   "cell_type": "markdown",
   "metadata": {},
   "source": [
    "# Define functions\n",
    "\n",
    "`select_action(state)`:  selects an action using epsilon-greedy, using the policy approximation network\n"
   ]
  },
  {
   "cell_type": "code",
   "execution_count": 9,
   "metadata": {},
   "outputs": [],
   "source": [
    "steps_done = 0\n",
    "\n",
    "def select_action(state):\n",
    "    global steps_done\n",
    "    sample = random.random()\n",
    "    eps_threshold = EPS_END + (EPS_START - EPS_END) * \\\n",
    "        math.exp(-1. * steps_done / EPS_DECAY)\n",
    "    steps_done += 1\n",
    "    if sample > eps_threshold:\n",
    "        with torch.no_grad():\n",
    "            # t.max(1) will return the largest column value of each row.\n",
    "            # second column on max result is index of where max element was\n",
    "            # found, so we pick action with the larger expected reward.\n",
    "            return policy_net(state).max(1).indices.view(1, 1)\n",
    "    else:\n",
    "        return torch.tensor([[random.randint(0, n_actions-1)]], device=device, dtype=torch.long)\n",
    "\n",
    "\n",
    "def select_action_greedy(state):\n",
    "    return policy_net(state).max(1).indices.view(1, 1)\n"
   ]
  },
  {
   "cell_type": "markdown",
   "metadata": {},
   "source": [
    "`plot_durations(show_result=Fals)`: plots a graph of the duration of each episode (to see duration decreasing as model learns)"
   ]
  },
  {
   "cell_type": "code",
   "execution_count": 10,
   "metadata": {},
   "outputs": [],
   "source": [
    "episode_durations = []\n",
    "\n",
    "def plot_durations(show_result=False):\n",
    "    plt.figure(1)\n",
    "    durations_t = torch.tensor(episode_durations, dtype=torch.float)\n",
    "    if show_result:\n",
    "        plt.title('Result')\n",
    "    else:\n",
    "        plt.clf()\n",
    "        plt.title('Training...')\n",
    "    plt.xlabel('Episode')\n",
    "    plt.ylabel('Duration')\n",
    "    plt.plot(durations_t.numpy())\n",
    "    # Take 100 episode averages and plot them too\n",
    "    if len(durations_t) >= 100:\n",
    "        means = durations_t.unfold(0, 100, 1).mean(1).view(-1)\n",
    "        means = torch.cat((torch.zeros(99), means))\n",
    "        plt.plot(means.numpy())\n",
    "\n",
    "    plt.pause(0.001)  # pause a bit so that plots are updated\n",
    "    if not show_result:\n",
    "        display(plt.gcf())\n",
    "        clear_output(wait=True)"
   ]
  },
  {
   "cell_type": "code",
   "execution_count": 11,
   "metadata": {},
   "outputs": [],
   "source": [
    "def optimize_model():\n",
    "    if len(memory) < BATCH_SIZE:\n",
    "        return\n",
    "    transitions = memory.sample(BATCH_SIZE)\n",
    "    # Transpose the batch\n",
    "    # from batch array [ transition(state, next, reward, action), transition(state, next, reward, action) ]\n",
    "    # to transition( [states], [next_states], [rewards], [actions] )\n",
    "    batch = Transition(*zip(*transitions))\n",
    "\n",
    "    # create a list of all next states that arent final (only unsolved cube states),\n",
    "    # and a bit mask for their indices to be able to merge later\n",
    "    non_final_mask = torch.tensor(tuple(map(lambda s: s is not None,\n",
    "                                          batch.next_state)), device=device, dtype=torch.bool)\n",
    "    non_final_next_states = torch.cat([s for s in batch.next_state\n",
    "                                                if s is not None])\n",
    "    \n",
    "    state_batch = torch.cat(batch.state)\n",
    "    action_batch = torch.cat(batch.action)\n",
    "    reward_batch = torch.cat(batch.reward)\n",
    "\n",
    "    # get Q(s_t, a), which is the Q value in state s_t when action a is taken\n",
    "    # action a is the action that policy_net picks based on its approximation of Q\n",
    "    state_action_values = policy_net(state_batch).gather(1, action_batch)\n",
    "\n",
    "    # get V(s_t+1), which is the maximum Q value in the next_state s_t+1\n",
    "    # uses the low pass filtered target_net\n",
    "    # This is merged based on the mask, such that we'll have either the expected\n",
    "    # state value or 0 in case the state was final.\n",
    "    next_state_values = torch.zeros(BATCH_SIZE, device=device)\n",
    "    with torch.no_grad():\n",
    "        next_state_values[non_final_mask] = target_net(non_final_next_states).max(1).values\n",
    "\n",
    "    # intuition is that Q should be the reward of the action it will take in the current state, \n",
    "    # and the discounted Q of the next state after that action\n",
    "    # expected Q =  r + gamma*V\n",
    "    expected_state_action_values = (next_state_values * GAMMA) + reward_batch\n",
    "\n",
    "    # Huber loss between expected Q (current reward from environment + discounted future reward estimated by network)\n",
    "    # Vs the Q the policy network predicted\n",
    "    criterion = nn.SmoothL1Loss()\n",
    "    loss = criterion(state_action_values, expected_state_action_values.unsqueeze(1))\n",
    "\n",
    "    # Optimize the model\n",
    "    optimizer.zero_grad()\n",
    "    loss.backward()\n",
    "\n",
    "    # In-place gradient clipping\n",
    "    torch.nn.utils.clip_grad_value_(policy_net.parameters(), 100)\n",
    "    optimizer.step()"
   ]
  },
  {
   "cell_type": "markdown",
   "metadata": {},
   "source": [
    "# Training\n",
    "Traing the model for num_episodes"
   ]
  },
  {
   "cell_type": "code",
   "execution_count": 12,
   "metadata": {},
   "outputs": [
    {
     "name": "stdout",
     "output_type": "stream",
     "text": [
      "Complete\n"
     ]
    },
    {
     "data": {
      "image/png": "[encoded data removed]",
      "text/plain": [
       "<Figure size 640x480 with 1 Axes>"
      ]
     },
     "metadata": {},
     "output_type": "display_data"
    }
   ],
   "source": [
    "num_episodes = 20_000\n",
    "num_logs = 50\n",
    "\n",
    "for i_log in range(num_logs):\n",
    "    for i_episode in range(num_episodes//num_logs):\n",
    "        # Initialize the environment and get its state\n",
    "        cube.reset()\n",
    "        state = cube.shuffle(3)\n",
    "        state = torch.tensor(state, dtype=torch.int64, device=device).unsqueeze(0)\n",
    "        for t in count():\n",
    "            # get next action\n",
    "            action_index = select_action(state)\n",
    "            action = cube.moves[action_index.item()]\n",
    "            next_state = action()\n",
    "\n",
    "            # check if cube is solved or if max steps reached\n",
    "            terminated = (next_state == solved_state).all()\n",
    "            truncated = (t == MAX_DURATION)\n",
    "            done = terminated or truncated\n",
    "\n",
    "            # give reward if cube is solved only\n",
    "            reward = 1 if terminated else 0\n",
    "            reward = torch.tensor([reward], device=device)\n",
    "            \n",
    "            # if solved, there is no next state\n",
    "            if not terminated: next_state = torch.tensor(next_state, device=device).unsqueeze(0)\n",
    "            else: next_state = None\n",
    "            \n",
    "            # Store the current transition in replay memory\n",
    "            memory.push(state, action_index, next_state, reward)\n",
    "\n",
    "            # Move to the next state\n",
    "            state = next_state\n",
    "\n",
    "            # Perform one step of the optimization (on the policy network)\n",
    "            optimize_model()\n",
    "\n",
    "            # Soft update of the target network's weights\n",
    "            # θ′ ← τ θ + (1 −τ )θ′\n",
    "            # low pass filter\n",
    "            target_net_state_dict = target_net.state_dict()\n",
    "            policy_net_state_dict = policy_net.state_dict()\n",
    "            for key in policy_net_state_dict:\n",
    "                target_net_state_dict[key] = policy_net_state_dict[key]*TAU + target_net_state_dict[key]*(1-TAU)\n",
    "            target_net.load_state_dict(target_net_state_dict)\n",
    "\n",
    "            if done:\n",
    "                episode_durations.append(t + 1)\n",
    "                break\n",
    "\n",
    "    # log\n",
    "    plot_durations()\n",
    "\n",
    "print('Complete')\n",
    "plot_durations(show_result=True)\n",
    "plt.ioff()\n",
    "plt.show()"
   ]
  },
  {
   "cell_type": "markdown",
   "metadata": {},
   "source": [
    "# Validation\n",
    "Randomly shuffles cubes and tests how many the model was able to solve."
   ]
  },
  {
   "cell_type": "code",
   "execution_count": 20,
   "metadata": {},
   "outputs": [
    {
     "name": "stdout",
     "output_type": "stream",
     "text": [
      "Accuracy: 0.954\n"
     ]
    }
   ],
   "source": [
    "NUM_CUBES = 500\n",
    "SHUFFLE_DISTANCE = 3\n",
    "VALIDATION_LIMIT = 5\n",
    "\n",
    "solved = 0\n",
    "\n",
    "for i in range(NUM_CUBES):\n",
    "    # shuffle cube\n",
    "    cube.reset()\n",
    "    state = cube.shuffle(SHUFFLE_DISTANCE)\n",
    "\n",
    "    state = torch.tensor(state, dtype=torch.int64, device=device).unsqueeze(0)\n",
    "    done = False\n",
    "\n",
    "    for i in count():\n",
    "        # select an action for the current state using model\n",
    "        action_index = select_action_greedy(state)\n",
    "        action = cube.moves[action_index.item()]\n",
    "        next_state = action()\n",
    "\n",
    "        # check if solved or too many steps\n",
    "        terminated = (next_state == solved_state).all()\n",
    "        truncated = i > VALIDATION_LIMIT\n",
    "        done = terminated or truncated\n",
    "        if done: break\n",
    "\n",
    "        next_state = torch.tensor(next_state, device=device).unsqueeze(0)\n",
    "        state = next_state\n",
    "\n",
    "    if terminated: solved += 1\n",
    "\n",
    "print(f'Accuracy: {solved/NUM_CUBES}')"
   ]
  },
  {
   "cell_type": "markdown",
   "metadata": {},
   "source": [
    "# Inference\n",
    "Finally, using the previously trained model, randomly shuffle a cube, and see if the model is able to solve it in a certain number of steps and show the shuffling pattern and solving pattern, and write down the pattern for shuffling and solving to see the model in action."
   ]
  },
  {
   "cell_type": "code",
   "execution_count": 14,
   "metadata": {},
   "outputs": [
    {
     "name": "stdout",
     "output_type": "stream",
     "text": [
      "shuffling...\n",
      "down front_p down_p \n",
      "solving...\n",
      "front front front_p front front_p front front_p failed\n"
     ]
    }
   ],
   "source": [
    "\n",
    "print('shuffling...')\n",
    "cube.reset()\n",
    "state = cube.shuffle(SHUFFLE_DISTANCE, True)\n",
    "\n",
    "print('solving...')\n",
    "state = torch.tensor(state, dtype=torch.int64, device=device).unsqueeze(0)\n",
    "done = False\n",
    "for i in count():\n",
    "    action_index = select_action_greedy(state)\n",
    "    action = cube.moves[action_index.item()]\n",
    "    next_state = action()\n",
    "    print(action.__name__, end=' ')\n",
    "\n",
    "    terminated = (next_state == solved_state).all()\n",
    "    truncated = i > VALIDATION_LIMIT\n",
    "    done = terminated or truncated\n",
    "    if done: break\n",
    "\n",
    "    next_state = torch.tensor(next_state, device=device).unsqueeze(0)\n",
    "    state = next_state\n",
    "\n",
    "if truncated: print('failed')\n",
    "else: print('success')"
   ]
  }
 ],
 "metadata": {
  "kernelspec": {
   "display_name": "Python 3",
   "language": "python",
   "name": "python3"
  },
  "language_info": {
   "codemirror_mode": {
    "name": "ipython",
    "version": 3
   },
   "file_extension": ".py",
   "mimetype": "text/x-python",
   "name": "python",
   "nbconvert_exporter": "python",
   "pygments_lexer": "ipython3",
   "version": "3.12.4"
  }
 },
 "nbformat": 4,
 "nbformat_minor": 2
}
